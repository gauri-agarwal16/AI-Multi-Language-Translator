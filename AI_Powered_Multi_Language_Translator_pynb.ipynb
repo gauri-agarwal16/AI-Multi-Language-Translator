{
  "nbformat": 4,
  "nbformat_minor": 0,
  "metadata": {
    "colab": {
      "provenance": [],
      "include_colab_link": true
    },
    "kernelspec": {
      "name": "python3",
      "display_name": "Python 3"
    },
    "language_info": {
      "name": "python"
    }
  },
  "cells": [
    {
      "cell_type": "markdown",
      "metadata": {
        "id": "view-in-github",
        "colab_type": "text"
      },
      "source": [
        "<a href=\"https://colab.research.google.com/github/gauri-agarwal16/AI-Multi-Language-Translator/blob/main/AI_Powered_Multi_Language_Translator_pynb.ipynb\" target=\"_parent\"><img src=\"https://colab.research.google.com/assets/colab-badge.svg\" alt=\"Open In Colab\"/></a>"
      ]
    },
    {
      "cell_type": "code",
      "execution_count": 14,
      "metadata": {
        "colab": {
          "base_uri": "https://localhost:8080/"
        },
        "id": "CIv8DocGoegK",
        "outputId": "3aae9fd1-bc2e-4203-edd2-b338d81b7543"
      },
      "outputs": [
        {
          "output_type": "stream",
          "name": "stdout",
          "text": [
            "Requirement already satisfied: googletrans==4.0.0-rc1 in /usr/local/lib/python3.11/dist-packages (4.0.0rc1)\n",
            "Requirement already satisfied: httpx==0.13.3 in /usr/local/lib/python3.11/dist-packages (from googletrans==4.0.0-rc1) (0.13.3)\n",
            "Requirement already satisfied: certifi in /usr/local/lib/python3.11/dist-packages (from httpx==0.13.3->googletrans==4.0.0-rc1) (2025.7.14)\n",
            "Requirement already satisfied: hstspreload in /usr/local/lib/python3.11/dist-packages (from httpx==0.13.3->googletrans==4.0.0-rc1) (2025.1.1)\n",
            "Requirement already satisfied: sniffio in /usr/local/lib/python3.11/dist-packages (from httpx==0.13.3->googletrans==4.0.0-rc1) (1.3.1)\n",
            "Requirement already satisfied: chardet==3.* in /usr/local/lib/python3.11/dist-packages (from httpx==0.13.3->googletrans==4.0.0-rc1) (3.0.4)\n",
            "Requirement already satisfied: idna==2.* in /usr/local/lib/python3.11/dist-packages (from httpx==0.13.3->googletrans==4.0.0-rc1) (2.10)\n",
            "Requirement already satisfied: rfc3986<2,>=1.3 in /usr/local/lib/python3.11/dist-packages (from httpx==0.13.3->googletrans==4.0.0-rc1) (1.5.0)\n",
            "Requirement already satisfied: httpcore==0.9.* in /usr/local/lib/python3.11/dist-packages (from httpx==0.13.3->googletrans==4.0.0-rc1) (0.9.1)\n",
            "Requirement already satisfied: h11<0.10,>=0.8 in /usr/local/lib/python3.11/dist-packages (from httpcore==0.9.*->httpx==0.13.3->googletrans==4.0.0-rc1) (0.9.0)\n",
            "Requirement already satisfied: h2==3.* in /usr/local/lib/python3.11/dist-packages (from httpcore==0.9.*->httpx==0.13.3->googletrans==4.0.0-rc1) (3.2.0)\n",
            "Requirement already satisfied: hyperframe<6,>=5.2.0 in /usr/local/lib/python3.11/dist-packages (from h2==3.*->httpcore==0.9.*->httpx==0.13.3->googletrans==4.0.0-rc1) (5.2.0)\n",
            "Requirement already satisfied: hpack<4,>=3.0 in /usr/local/lib/python3.11/dist-packages (from h2==3.*->httpcore==0.9.*->httpx==0.13.3->googletrans==4.0.0-rc1) (3.0.0)\n"
          ]
        }
      ],
      "source": [
        "!pip install googletrans==4.0.0-rc1"
      ]
    },
    {
      "cell_type": "code",
      "source": [
        "from googletrans import Translator, LANGUAGES"
      ],
      "metadata": {
        "id": "sb_tQHjzor3p"
      },
      "execution_count": 15,
      "outputs": []
    },
    {
      "cell_type": "code",
      "source": [
        "translator = Translator()"
      ],
      "metadata": {
        "id": "-rpYNz57o37T"
      },
      "execution_count": 16,
      "outputs": []
    },
    {
      "cell_type": "code",
      "source": [
        "print(\"🌐 Available Languages:\\n\")\n",
        "for code, name in LANGUAGES.items():\n",
        "    print(f\"{name.title()} ({code})\")\n",
        "print(\"\\n\")"
      ],
      "metadata": {
        "colab": {
          "base_uri": "https://localhost:8080/"
        },
        "id": "-5WIdZIGo6Od",
        "outputId": "08b8f250-e288-4636-a67f-254f0ae83ede"
      },
      "execution_count": 17,
      "outputs": [
        {
          "output_type": "stream",
          "name": "stdout",
          "text": [
            "🌐 Available Languages:\n",
            "\n",
            "Afrikaans (af)\n",
            "Albanian (sq)\n",
            "Amharic (am)\n",
            "Arabic (ar)\n",
            "Armenian (hy)\n",
            "Azerbaijani (az)\n",
            "Basque (eu)\n",
            "Belarusian (be)\n",
            "Bengali (bn)\n",
            "Bosnian (bs)\n",
            "Bulgarian (bg)\n",
            "Catalan (ca)\n",
            "Cebuano (ceb)\n",
            "Chichewa (ny)\n",
            "Chinese (Simplified) (zh-cn)\n",
            "Chinese (Traditional) (zh-tw)\n",
            "Corsican (co)\n",
            "Croatian (hr)\n",
            "Czech (cs)\n",
            "Danish (da)\n",
            "Dutch (nl)\n",
            "English (en)\n",
            "Esperanto (eo)\n",
            "Estonian (et)\n",
            "Filipino (tl)\n",
            "Finnish (fi)\n",
            "French (fr)\n",
            "Frisian (fy)\n",
            "Galician (gl)\n",
            "Georgian (ka)\n",
            "German (de)\n",
            "Greek (el)\n",
            "Gujarati (gu)\n",
            "Haitian Creole (ht)\n",
            "Hausa (ha)\n",
            "Hawaiian (haw)\n",
            "Hebrew (iw)\n",
            "Hebrew (he)\n",
            "Hindi (hi)\n",
            "Hmong (hmn)\n",
            "Hungarian (hu)\n",
            "Icelandic (is)\n",
            "Igbo (ig)\n",
            "Indonesian (id)\n",
            "Irish (ga)\n",
            "Italian (it)\n",
            "Japanese (ja)\n",
            "Javanese (jw)\n",
            "Kannada (kn)\n",
            "Kazakh (kk)\n",
            "Khmer (km)\n",
            "Korean (ko)\n",
            "Kurdish (Kurmanji) (ku)\n",
            "Kyrgyz (ky)\n",
            "Lao (lo)\n",
            "Latin (la)\n",
            "Latvian (lv)\n",
            "Lithuanian (lt)\n",
            "Luxembourgish (lb)\n",
            "Macedonian (mk)\n",
            "Malagasy (mg)\n",
            "Malay (ms)\n",
            "Malayalam (ml)\n",
            "Maltese (mt)\n",
            "Maori (mi)\n",
            "Marathi (mr)\n",
            "Mongolian (mn)\n",
            "Myanmar (Burmese) (my)\n",
            "Nepali (ne)\n",
            "Norwegian (no)\n",
            "Odia (or)\n",
            "Pashto (ps)\n",
            "Persian (fa)\n",
            "Polish (pl)\n",
            "Portuguese (pt)\n",
            "Punjabi (pa)\n",
            "Romanian (ro)\n",
            "Russian (ru)\n",
            "Samoan (sm)\n",
            "Scots Gaelic (gd)\n",
            "Serbian (sr)\n",
            "Sesotho (st)\n",
            "Shona (sn)\n",
            "Sindhi (sd)\n",
            "Sinhala (si)\n",
            "Slovak (sk)\n",
            "Slovenian (sl)\n",
            "Somali (so)\n",
            "Spanish (es)\n",
            "Sundanese (su)\n",
            "Swahili (sw)\n",
            "Swedish (sv)\n",
            "Tajik (tg)\n",
            "Tamil (ta)\n",
            "Telugu (te)\n",
            "Thai (th)\n",
            "Turkish (tr)\n",
            "Ukrainian (uk)\n",
            "Urdu (ur)\n",
            "Uyghur (ug)\n",
            "Uzbek (uz)\n",
            "Vietnamese (vi)\n",
            "Welsh (cy)\n",
            "Xhosa (xh)\n",
            "Yiddish (yi)\n",
            "Yoruba (yo)\n",
            "Zulu (zu)\n",
            "\n",
            "\n"
          ]
        }
      ]
    },
    {
      "cell_type": "code",
      "source": [
        "src_lang = input(\"🔤 Enter source language: \").lower()\n",
        "dest_lang = input(\"🌍 Enter destination language: \").lower()\n",
        "text = input(\"📝 Enter text to translate: \")"
      ],
      "metadata": {
        "colab": {
          "base_uri": "https://localhost:8080/"
        },
        "id": "k5I-Ql1lpDQb",
        "outputId": "1ef7c00a-a31a-4203-dc13-670f53a924de"
      },
      "execution_count": 18,
      "outputs": [
        {
          "name": "stdout",
          "output_type": "stream",
          "text": [
            "🔤 Enter source language: Spanish\n",
            "🌍 Enter destination language: Hindi\n",
            "📝 Enter text to translate: hola\n"
          ]
        }
      ]
    },
    {
      "cell_type": "code",
      "source": [
        "def get_lang_code(lang_name):\n",
        "    for code, name in LANGUAGES.items():\n",
        "        if name.lower() == lang_name.lower():\n",
        "            return code\n",
        "    return None\n",
        "\n",
        "src_code = get_lang_code(src_lang)\n",
        "dest_code = get_lang_code(dest_lang)"
      ],
      "metadata": {
        "id": "ThZc6G-ypUES"
      },
      "execution_count": 19,
      "outputs": []
    },
    {
      "cell_type": "code",
      "source": [
        "if src_code and dest_code:\n",
        "    translated = translator.translate(text, src=src_code, dest=dest_code)\n",
        "    print(f\"\\n✅ Translated Text ({dest_lang.title()}): {translated.text}\")\n",
        "else:\n",
        "    print(\"❌ Invalid language input. Please check your language names.\")"
      ],
      "metadata": {
        "colab": {
          "base_uri": "https://localhost:8080/"
        },
        "id": "qiUDZ_hNpeuv",
        "outputId": "4aae48f8-cf79-4234-aac9-8008c2e6d4e3"
      },
      "execution_count": 20,
      "outputs": [
        {
          "output_type": "stream",
          "name": "stdout",
          "text": [
            "\n",
            "✅ Translated Text (Hindi): नमस्ते\n"
          ]
        }
      ]
    }
  ]
}